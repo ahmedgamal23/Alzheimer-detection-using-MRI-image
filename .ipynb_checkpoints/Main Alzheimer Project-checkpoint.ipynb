{
 "cells": [
  {
   "cell_type": "markdown",
   "id": "16a4c2a6-df03-4817-9fd5-4102f975bae9",
   "metadata": {},
   "source": [
    "<img src=\"Image/Alzheimar.jpg\">"
   ]
  },
  {
   "cell_type": "markdown",
   "id": "1e73ee87-5e4a-4209-b718-cd57c629cd7e",
   "metadata": {},
   "source": [
    "#### Main Window to achive virtual output"
   ]
  },
  {
   "cell_type": "code",
   "execution_count": 2,
   "id": "fd9d1783-7fcb-4e71-90e2-7f585fe2c236",
   "metadata": {},
   "outputs": [],
   "source": [
    "import tkinter as tk\n",
    "from tkinter import *\n",
    "from tkinter.filedialog import askopenfilename\n",
    "from PIL import Image, ImageTk\n",
    "import matplotlib.pyplot as plt\n",
    "from tensorflow import keras\n",
    "import cv2\n",
    "import numpy as np\n",
    "from tkinter.ttk import Progressbar\n",
    "from tkinter import IntVar\n",
    "import time\n",
    "from sklearn.metrics import precision_score , recall_score , f1_score"
   ]
  },
  {
   "cell_type": "code",
   "execution_count": 3,
   "id": "3702db56-8daf-4b04-8ab7-5bb06415cac4",
   "metadata": {},
   "outputs": [],
   "source": [
    "def TestInput(file_path):\n",
    "    CNNModelSaved = keras.models.load_model('saved cnn model')\n",
    "    imgMatrix = plt.imread(file_path)\n",
    "    labels=[\"MildDemented\" , \"ModerateDemented\" , \"NonDemented\" , \"VeryMildDemented\"]\n",
    "    imgMatrix = cv2.resize(imgMatrix , (200,200))\n",
    "    imgMatrix = imgMatrix.astype('float32')\n",
    "    imgMatrix /= 255.0\n",
    "    imgMatrix = cv2.cvtColor(imgMatrix, cv2.COLOR_BGR2RGB)\n",
    "    imgMatrix = imgMatrix.reshape((1, 200, 200, 3))\n",
    "    c = CNNModelSaved.predict(imgMatrix)\n",
    "    p = np.argmax(c)\n",
    "    return labels[p]"
   ]
  },
  {
   "cell_type": "code",
   "execution_count": 16,
   "id": "7937b6e7-21f9-4f4b-ae1a-ca1c4791c8aa",
   "metadata": {},
   "outputs": [],
   "source": [
    "def chooseImage():\n",
    "    check=False\n",
    "    \n",
    "    file_path = askopenfilename(filetypes=[(\"Image files\", \"*.jpg;*.jpeg;*.png\")])\n",
    "    if file_path:\n",
    "        # Load model\n",
    "        image = Image.open(file_path)\n",
    "        image = image.resize((350, 250))\n",
    "        # Convert the image to Tkinter-compatible format\n",
    "        tk_image = ImageTk.PhotoImage(image)\n",
    "        \n",
    "        # Create a Label widget to display the image\n",
    "        image_label = Label(window, image=tk_image)\n",
    "        image_label.config(image=tk_image)\n",
    "        image_label.image = tk_image\n",
    "        image_label.place(x = 10 , y = 10)\n",
    "        \n",
    "        # ------call mode\n",
    "        predictedLabel = TestInput(file_path)\n",
    "        # Create a Label to display the prediction value\n",
    "        predlabel = Label(window, text=predictedLabel , foreground=\"red\")\n",
    "        predlabel.place(x = 150 , y = 300)\n",
    "        # ----------\n",
    "        \n",
    "    else:\n",
    "        print(\"No file selected.\")\n",
    "    return"
   ]
  },
  {
   "cell_type": "markdown",
   "id": "f7d441ea-e682-4eb0-bf53-373bf8368310",
   "metadata": {},
   "source": [
    "<h3><img src=\"Image/vr.png\" > Virtual output</h3>"
   ]
  },
  {
   "cell_type": "code",
   "execution_count": 21,
   "id": "e4563fb7-4f6a-4d5c-b6b7-317cbed349b3",
   "metadata": {},
   "outputs": [
    {
     "name": "stdout",
     "output_type": "stream",
     "text": [
      "WARNING:tensorflow:6 out of the last 6 calls to <function Model.make_predict_function.<locals>.predict_function at 0x000001785F5AE430> triggered tf.function retracing. Tracing is expensive and the excessive number of tracings could be due to (1) creating @tf.function repeatedly in a loop, (2) passing tensors with different shapes, (3) passing Python objects instead of tensors. For (1), please define your @tf.function outside of the loop. For (2), @tf.function has reduce_retracing=True option that can avoid unnecessary retracing. For (3), please refer to https://www.tensorflow.org/guide/function#controlling_retracing and https://www.tensorflow.org/api_docs/python/tf/function for  more details.\n",
      "1/1 [==============================] - 0s 167ms/step\n"
     ]
    }
   ],
   "source": [
    "window = Tk()\n",
    "window.geometry(\"500x500\")\n",
    "window.eval('tk::PlaceWindow . center')\n",
    "window.title(\"Alzheimer Detection\")\n",
    "window.resizable(height = False, width = False)\n",
    "\n",
    "\n",
    "# buttons\n",
    "chooseMRI = Button(window , text = \"Choose MRI Image and predict\" , padx=10 , command=chooseImage)\n",
    "chooseMRI.place(x=150, y=450)\n",
    "\n",
    "\n",
    "window.mainloop()"
   ]
  },
  {
   "cell_type": "code",
   "execution_count": null,
   "id": "9fae366f-a86a-4126-88e2-abc83f9c3af9",
   "metadata": {},
   "outputs": [],
   "source": []
  },
  {
   "cell_type": "markdown",
   "id": "ea7fbe46-de24-4615-aa0b-42a1a860a61b",
   "metadata": {},
   "source": [
    "<center><h1>Finished Alzheimer disease Project </h1></center>"
   ]
  },
  {
   "cell_type": "code",
   "execution_count": null,
   "id": "24f04572-e66c-45a2-b023-330c59de41c6",
   "metadata": {},
   "outputs": [],
   "source": []
  }
 ],
 "metadata": {
  "kernelspec": {
   "display_name": "Python 3 (ipykernel)",
   "language": "python",
   "name": "python3"
  },
  "language_info": {
   "codemirror_mode": {
    "name": "ipython",
    "version": 3
   },
   "file_extension": ".py",
   "mimetype": "text/x-python",
   "name": "python",
   "nbconvert_exporter": "python",
   "pygments_lexer": "ipython3",
   "version": "3.8.16"
  }
 },
 "nbformat": 4,
 "nbformat_minor": 5
}
